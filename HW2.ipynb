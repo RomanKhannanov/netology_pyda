{
 "cells": [
  {
   "cell_type": "markdown",
   "metadata": {},
   "source": [
    "# Задание 1\n",
    "\n",
    "Дан список с визитами по городам и странам. Напишите код, который возвращает отфильтрованный список geo_logs, содержащий только визиты из России. Считайте, что список geo_logs легко помещается в оперативной памяти.\n",
    "\n",
    "\n",
    "geo_logs = [\n",
    "[‘visit1’, [‘Москва’, ‘Россия’]],\n",
    "[‘visit2’, [‘Дели’, ‘Индия’]],\n",
    "[‘visit3’, [‘Владимир’, ‘Россия’]],\n",
    "[‘visit4’, [‘Лиссабон’, ‘Португалия’]],\n",
    "[‘visit5’, [‘Париж’, ‘Франция’]],\n",
    "[‘visit6’, [‘Лиссабон’, ‘Португалия’]],\n",
    "[‘visit7’, [‘Тула’, ‘Россия’]],\n",
    "[‘visit8’, [‘Тула’, ‘Россия’]],\n",
    "[‘visit9’, [‘Курск’, ‘Россия’]],\n",
    "[‘visit10’, [‘Архангельск’, ‘Россия’]],\n",
    "]"
   ]
  },
  {
   "cell_type": "code",
   "execution_count": 109,
   "metadata": {},
   "outputs": [
    {
     "name": "stdout",
     "output_type": "stream",
     "text": [
      "['visit1', ['Москва', 'Россия']]\n",
      "['visit2', ['Дели', 'Индия']]\n",
      "['visit3', ['Владимир', 'Россия']]\n",
      "['visit4', ['Лиссабон', 'Португалия']]\n",
      "['visit5', ['Париж', 'Франция']]\n",
      "['visit6', ['Лиссабон', 'Португалия']]\n",
      "['visit7', ['Тула', 'Россия']]\n",
      "['visit8', ['Тула', 'Россия']]\n",
      "['visit9', ['Курск', 'Россия']]\n",
      "['visit10', ['Архангельск', 'Россия']]\n"
     ]
    }
   ],
   "source": [
    "geo_logs = [ ['visit1', ['Москва', 'Россия']], ['visit2', ['Дели', 'Индия']], ['visit3', ['Владимир', 'Россия']], ['visit4', ['Лиссабон', 'Португалия']], ['visit5', ['Париж', 'Франция']], ['visit6', ['Лиссабон', 'Португалия']], ['visit7', ['Тула', 'Россия']], ['visit8', ['Тула', 'Россия']], ['visit9', ['Курск', 'Россия']], ['visit10', ['Архангельск', 'Россия']], ]\n",
    "for i in geo_logs:\n",
    "    print(i)\n"
   ]
  },
  {
   "cell_type": "code",
   "execution_count": 87,
   "metadata": {},
   "outputs": [
    {
     "name": "stdout",
     "output_type": "stream",
     "text": [
      "['visit1', ['Москва', 'Россия']]\n",
      "['visit3', ['Владимир', 'Россия']]\n",
      "['visit7', ['Тула', 'Россия']]\n",
      "['visit8', ['Тула', 'Россия']]\n",
      "['visit9', ['Курск', 'Россия']]\n",
      "['visit10', ['Архангельск', 'Россия']]\n"
     ]
    }
   ],
   "source": [
    "for i in geo_logs:\n",
    "    if 'Россия' in i[1]:\n",
    "        print(i)"
   ]
  },
  {
   "cell_type": "markdown",
   "metadata": {},
   "source": [
    "# Задание 2\n",
    "\n",
    "Выведите на экран все уникальные гео-ID из списка координат ids. Т. е. список вида [213, 15, 54, 119, 98, 35]\n",
    "ids = [[‘user1’, [213, 213, 213, 15, 213]], [‘user2’, [54, 54, 119, 119, 119]], [‘user3’, [213, 98, 98, 35]]]\n"
   ]
  },
  {
   "cell_type": "code",
   "execution_count": 3,
   "metadata": {},
   "outputs": [
    {
     "name": "stdout",
     "output_type": "stream",
     "text": [
      "['user1', [213, 213, 213, 15, 213]]\n",
      "['user2', [54, 54, 119, 119, 119]]\n",
      "['user3', [213, 98, 98, 35]]\n"
     ]
    }
   ],
   "source": [
    "Ids = [['user1', [213, 213, 213, 15, 213]], ['user2', [54, 54, 119, 119, 119]], ['user3', [213, 98, 98, 35]]]\n",
    "for i in Ids:\n",
    "    print(i)"
   ]
  },
  {
   "cell_type": "code",
   "execution_count": 10,
   "metadata": {},
   "outputs": [
    {
     "data": {
      "text/plain": [
       "{15, 35, 54, 98, 119, 213}"
      ]
     },
     "execution_count": 10,
     "metadata": {},
     "output_type": "execute_result"
    }
   ],
   "source": [
    "Ids = [['user1', [213, 213, 213, 15, 213]], ['user2', [54, 54, 119, 119, 119]], ['user3', [213, 98, 98, 35]]]\n",
    "\n",
    "all_ids = []\n",
    "\n",
    "for id_ in Ids:\n",
    "    all_ids += id_[1]\n",
    "set(all_ids)"
   ]
  },
  {
   "cell_type": "code",
   "execution_count": null,
   "metadata": {},
   "outputs": [],
   "source": []
  },
  {
   "cell_type": "markdown",
   "metadata": {},
   "source": [
    "# Задание 3\n",
    "Список поисковых запросов. Получить распределение количества слов в них. Т. е. поисковых запросов из одного слова 5%, из двух - 7%, из трех - 3% итд.\n",
    "queries = [\n",
    "‘смотреть сериалы онлайн’,\n",
    "‘новости спорта’,\n",
    "‘афиша кино’,\n",
    "‘курс доллара’,\n",
    "‘сериалы этим летом’,\n",
    "‘курс по питону’,\n",
    "‘сериалы про спорт’,\n",
    "]"
   ]
  },
  {
   "cell_type": "code",
   "execution_count": 11,
   "metadata": {},
   "outputs": [],
   "source": [
    "queries = [ 'смотреть сериалы онлайн', 'новости спорта', 'афиша кино', 'курс доллара', 'сериалы этим летом', 'курс по питону', 'сериалы про спорт', ]\n"
   ]
  },
  {
   "cell_type": "code",
   "execution_count": 12,
   "metadata": {},
   "outputs": [
    {
     "name": "stdout",
     "output_type": "stream",
     "text": [
      "смотреть сериалы онлайн\n",
      "новости спорта\n",
      "афиша кино\n",
      "курс доллара\n",
      "сериалы этим летом\n",
      "курс по питону\n",
      "сериалы про спорт\n"
     ]
    }
   ],
   "source": [
    "for i in queries:\n",
    "    print(i)"
   ]
  },
  {
   "cell_type": "code",
   "execution_count": 29,
   "metadata": {},
   "outputs": [
    {
     "data": {
      "text/plain": [
       "[3, 2, 2, 2, 3, 3, 3]"
      ]
     },
     "execution_count": 29,
     "metadata": {},
     "output_type": "execute_result"
    }
   ],
   "source": [
    "query_len = []\n",
    "\n",
    "for query in queries:\n",
    "    query_len.append(len(query.split(' ')))\n",
    "    \n",
    "query_len"
   ]
  },
  {
   "cell_type": "code",
   "execution_count": 37,
   "metadata": {},
   "outputs": [
    {
     "data": {
      "text/plain": [
       "4"
      ]
     },
     "execution_count": 37,
     "metadata": {},
     "output_type": "execute_result"
    }
   ],
   "source": [
    "query_len.count(3)"
   ]
  },
  {
   "cell_type": "code",
   "execution_count": 38,
   "metadata": {},
   "outputs": [
    {
     "data": {
      "text/plain": [
       "3"
      ]
     },
     "execution_count": 38,
     "metadata": {},
     "output_type": "execute_result"
    }
   ],
   "source": [
    "query_len.count(2)"
   ]
  },
  {
   "cell_type": "code",
   "execution_count": 67,
   "metadata": {},
   "outputs": [
    {
     "name": "stdout",
     "output_type": "stream",
     "text": [
      "Поисковых запросов из 2 слов 42.857142857142854 % , Поисковых запросов из 3 слов 57.14285714285714 %\n"
     ]
    }
   ],
   "source": [
    "print ( 'Поисковых запросов из 2 слов', (query_len.count(2)/7)*100,'%', ', Поисковых запросов из 3 слов', (query_len.count(3)/7)*100,'%')"
   ]
  },
  {
   "cell_type": "code",
   "execution_count": null,
   "metadata": {},
   "outputs": [],
   "source": []
  }
 ],
 "metadata": {
  "kernelspec": {
   "display_name": "Python 3",
   "language": "python",
   "name": "python3"
  },
  "language_info": {
   "codemirror_mode": {
    "name": "ipython",
    "version": 3
   },
   "file_extension": ".py",
   "mimetype": "text/x-python",
   "name": "python",
   "nbconvert_exporter": "python",
   "pygments_lexer": "ipython3",
   "version": "3.7.3"
  }
 },
 "nbformat": 4,
 "nbformat_minor": 2
}
